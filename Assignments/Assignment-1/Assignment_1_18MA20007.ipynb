{
 "cells": [
  {
   "cell_type": "markdown",
   "metadata": {
    "colab_type": "text",
    "id": "fk0evCZ7U9WO"
   },
   "source": [
    "# **Assignment 1 on Natural Language Processing**\n",
    "\n",
    "### Date : 4th Sept, 2020\n",
    "\n",
    "#### Instructor : Prof. Sudeshna Sarkar\n",
    "\n",
    "#### Teaching Assistants : Alapan Kuila, Aniruddha Roy, Anusha Potnuru, Uppada Vishnu"
   ]
  },
  {
   "cell_type": "markdown",
   "metadata": {
    "colab_type": "text",
    "id": "Il_b_LFKXi8t"
   },
   "source": [
    " # NLTK Library"
   ]
  },
  {
   "cell_type": "markdown",
   "metadata": {
    "colab_type": "text",
    "id": "ss5CZjC2Xt0i"
   },
   "source": [
    "The [NLTK](https://www.nltk.org/) Python framework is generally used as an education and research tool. Tokenization, Stemming, Lemmatization, Punctuation, Character count, word count are some of these packages which will be discussed in this tutorial.\n",
    "\n",
    "**Installing Nltk** <br>\n",
    "Nltk can be installed using PIP or Conda package managers.For detailed installation instructions follow this [link](https://www.nltk.org/install.html).\n",
    "\n",
    "To ensure we are all on the same page, the coding environment will be in **python3**. We suggest downloading Anaconda3 and creating a separate environment to do this assignment. \n",
    "The link to anaconda3 for Windows and Linux is available here https://docs.anaconda.com/anaconda/install/. \n",
    "The steps to install NLTK is available on the link: \n",
    "```bash\n",
    "sudo pip3 install nltk \n",
    "python3 \n",
    "nltk.download()\n",
    "```"
   ]
  },
  {
   "cell_type": "markdown",
   "metadata": {
    "colab_type": "text",
    "id": "r4txbU5-RlMv"
   },
   "source": [
    "**Note for Question and answers:**\n",
    "\n",
    "Write your answers to the point in the text box below labelled as **Answer here**."
   ]
  },
  {
   "cell_type": "markdown",
   "metadata": {
    "colab_type": "text",
    "id": "52_aJRSqaHgC"
   },
   "source": [
    "# Tokenizing words and Sentences using Nltk"
   ]
  },
  {
   "cell_type": "markdown",
   "metadata": {
    "colab_type": "text",
    "id": "o5_ElYaeaMbR"
   },
   "source": [
    "**Tokenization** is the process by which big quantity of text is divided into smaller parts called tokens. <br>It is crucial to understand the pattern in the text in order to perform various NLP tasks.These tokens are very useful for finding such patterns.<br>\n",
    "\n",
    "Natural Language toolkit has very important module tokenize which further comprises of sub-modules\n",
    "\n",
    "1. word tokenize\n",
    "2. sentence tokenize"
   ]
  },
  {
   "cell_type": "code",
   "execution_count": 1,
   "metadata": {
    "colab": {},
    "colab_type": "code",
    "id": "sby_OS3qZ_fz"
   },
   "outputs": [
    {
     "name": "stderr",
     "output_type": "stream",
     "text": [
      "[nltk_data] Downloading package punkt to C:\\Users\\Aparna\n",
      "[nltk_data]     Sakshi\\AppData\\Roaming\\nltk_data...\n",
      "[nltk_data]   Package punkt is already up-to-date!\n",
      "[nltk_data] Downloading package inaugural to C:\\Users\\Aparna\n",
      "[nltk_data]     Sakshi\\AppData\\Roaming\\nltk_data...\n",
      "[nltk_data]   Package inaugural is already up-to-date!\n",
      "[nltk_data] Downloading package stopwords to C:\\Users\\Aparna\n",
      "[nltk_data]     Sakshi\\AppData\\Roaming\\nltk_data...\n",
      "[nltk_data]   Package stopwords is already up-to-date!\n"
     ]
    }
   ],
   "source": [
    "# Importing modules\n",
    "import nltk\n",
    "nltk.download('punkt') # For tokenizers\n",
    "nltk.download('inaugural') # For dataset\n",
    "nltk.download('stopwords')\n",
    "from nltk.tokenize import word_tokenize,sent_tokenize"
   ]
  },
  {
   "cell_type": "code",
   "execution_count": 2,
   "metadata": {
    "colab": {},
    "colab_type": "code",
    "id": "ew9Aq5WHXSn-"
   },
   "outputs": [
    {
     "name": "stdout",
     "output_type": "stream",
     "text": [
      "Fellow-Citizens of the Senate and of the House of Representatives:\n",
      "\n"
     ]
    }
   ],
   "source": [
    "# Sample corpus.\n",
    "from nltk.corpus import inaugural\n",
    "from nltk.corpus import stopwords\n",
    "#corpus=body of text\n",
    "corpus = inaugural.raw('1789-Washington.txt')\n",
    "print(corpus[:67])"
   ]
  },
  {
   "cell_type": "markdown",
   "metadata": {
    "colab_type": "text",
    "id": "V2wbXKzVW0GO"
   },
   "source": [
    "### **TASK**:\n",
    "\n",
    "For the given corpus, \n",
    "1. Print the number of sentences and tokens. \n",
    "2. Print the average number of tokens per sentence.\n",
    "3. Print the number of unique tokens\n",
    "4. Print the number of tokens after stopword removal using the stopwords from nltk.\n"
   ]
  },
  {
   "cell_type": "code",
   "execution_count": 4,
   "metadata": {
    "colab": {},
    "colab_type": "code",
    "id": "jrtu9HcHXFe6"
   },
   "outputs": [
    {
     "name": "stdout",
     "output_type": "stream",
     "text": [
      "Number of sentences:  23\n",
      "Number of tokens:  1537\n",
      "Average number of tokens per sentence:  66.82608695652173\n",
      "Number of unique tokens:  626\n",
      "Number of tokens after removal of stop words:  800\n"
     ]
    }
   ],
   "source": [
    "# TODO\n",
    "sentences=sent_tokenize(corpus)\n",
    "tokens=word_tokenize(corpus)\n",
    "sentences_count=len(sentences)\n",
    "tokens_count=len(tokens)\n",
    "print(\"Number of sentences: \",sentences_count)\n",
    "print(\"Number of tokens: \",tokens_count)\n",
    "print(\"Average number of tokens per sentence: \",tokens_count/sentences_count)\n",
    "unique_tokens=set(tokens)\n",
    "print(\"Number of unique tokens: \",len(unique_tokens))\n",
    "stop_words=stopwords.words(\"english\")\n",
    "tokens_without_stopwords=[words for words in tokens if not words in stop_words]\n",
    "print(\"Number of tokens after removal of stop words: \",len(tokens_without_stopwords))\n",
    "\n",
    "\n"
   ]
  },
  {
   "cell_type": "markdown",
   "metadata": {
    "colab_type": "text",
    "id": "UViYY9_3t2UE"
   },
   "source": [
    "# Stemming and Lemmatization with NLTK"
   ]
  },
  {
   "cell_type": "markdown",
   "metadata": {
    "colab_type": "text",
    "id": "g55XX9KDLgO7"
   },
   "source": [
    "**What is Stemming?** <br>\n",
    "Stemming is a kind of normalization for words. Normalization is a technique where a set of words in a sentence are converted into a sequence to shorten its lookup. The words which have the same meaning but have some variation according to the context or sentence are normalized.<br>\n",
    "Hence Stemming is a way to find the root word from any variations of respective word\n",
    "\n",
    "There are many stemmers provided by Nltk like **PorterStemmer**, **SnowballStemmer**, **LancasterStemmer**.<br>\n",
    "\n",
    "We will try and see differences between Porterstemmer and Snowballstemmer"
   ]
  },
  {
   "cell_type": "code",
   "execution_count": 6,
   "metadata": {
    "colab": {},
    "colab_type": "code",
    "id": "SS4Ij__XLfTB"
   },
   "outputs": [
    {
     "name": "stdout",
     "output_type": "stream",
     "text": [
      "grow grow\n",
      "leav leav\n",
      "fairli fair\n",
      "cat cat\n",
      "troubl troubl\n",
      "misunderstand misunderstand\n",
      "friendship friendship\n",
      "easili easili\n",
      "ration ration\n",
      "relat relat\n",
      "\n",
      "________________________________\n",
      "\n",
      "fellow-citizen of the senat and of the hous of repres : \n"
     ]
    }
   ],
   "source": [
    "from nltk.stem import PorterStemmer\n",
    "from nltk.stem import SnowballStemmer # Note that SnowballStemmer has language as parameter.\n",
    "\n",
    "words = [\"grows\",\"leaves\",\"fairly\",\"cats\",\"trouble\",\"misunderstanding\",\"friendships\",\"easily\", \"rational\", \"relational\"]\n",
    "\n",
    "# TODO\n",
    "# create an instance of both the stemmers and perform stemming on above words\n",
    "ps=PorterStemmer()\n",
    "ss=SnowballStemmer(\"english\")\n",
    "for w in words:\n",
    "        print(ps.stem(w),ss.stem(w))\n",
    "        \n",
    "print()\n",
    "print(\"________________________________\")\n",
    "print()\n",
    "\n",
    "\n",
    "# TODO\n",
    "# Complete the function which takes a sentence/corpus and gets its stemmed version.\n",
    "def stemSentence(sentence):\n",
    "    tokens=word_tokenize(sentence)\n",
    "    for w in tokens:\n",
    "        print(ps.stem(w), end=\" \")\n",
    "    else:\n",
    "        print(\"\")\n",
    "    \n",
    "\n",
    "stemSentence(corpus[:67])\n"
   ]
  },
  {
   "cell_type": "markdown",
   "metadata": {
    "colab_type": "text",
    "id": "0JuE8CuDQSno"
   },
   "source": [
    "**What is Lemmatization?** <br>\n",
    "Lemmatization is the algorithmic process of finding the lemma of a word depending on their meaning. Lemmatization usually refers to the morphological analysis of words, which aims to remove inflectional endings. It helps in returning the base or dictionary form of a word, which is known as the lemma.<br>\n",
    "\n",
    "*The NLTK Lemmatization method is based on WorldNet's built-in morph function.*"
   ]
  },
  {
   "cell_type": "code",
   "execution_count": 16,
   "metadata": {
    "colab": {},
    "colab_type": "code",
    "id": "noyl1YNsQp98"
   },
   "outputs": [
    {
     "name": "stdout",
     "output_type": "stream",
     "text": [
      "grows grow grows\n",
      "leaf leave leaves\n",
      "fairly fairly fairly\n",
      "cat cat cats\n",
      "trouble trouble trouble\n",
      "running run running\n",
      "friendship friendships friendships\n",
      "easily easily easily\n",
      "wa be was\n",
      "relational relational relational\n",
      "ha have has\n",
      "\n",
      "________________________________\n",
      "\n",
      "Fellow-Citizens of the Senate and of the House of Representatives : Among the vicissitude incident to life no event could have filled me with greater anxiety than that of which the notification wa \n",
      "\n"
     ]
    },
    {
     "name": "stderr",
     "output_type": "stream",
     "text": [
      "[nltk_data] Downloading package wordnet to C:\\Users\\Aparna\n",
      "[nltk_data]     Sakshi\\AppData\\Roaming\\nltk_data...\n",
      "[nltk_data]   Package wordnet is already up-to-date!\n"
     ]
    }
   ],
   "source": [
    "#imports\n",
    "from nltk.stem import WordNetLemmatizer\n",
    "nltk.download('wordnet') # Since Lemmatization method is based on WorldNet's built-in morph function.\n",
    "\n",
    "words = [\"grows\",\"leaves\",\"fairly\",\"cats\",\"trouble\",\"running\",\"friendships\",\"easily\", \"was\", \"relational\",\"has\"]\n",
    "\n",
    "#TODO\n",
    "# Create an instance of the Lemmatizer and perform Lemmatization on above words\n",
    "# You can also give Parts-of-speech(pos) to the Lemmatizer for example \"v\" (verb). Check the differences in the outputs.\n",
    "lemmatizer=WordNetLemmatizer()\n",
    "for w in words:\n",
    "        print(lemmatizer.lemmatize(w,\"n\"),lemmatizer.lemmatize(w,\"v\"),lemmatizer.lemmatize(w,\"a\"))\n",
    "        \n",
    "        \n",
    "print()\n",
    "print(\"________________________________\")\n",
    "print()\n",
    "\n",
    "\n",
    "#TODO\n",
    "# Complete the function which takes a sentence/corpus and gets its lemmatized version.\n",
    "def lemmatizeSentence(sentence):\n",
    "    tokens=word_tokenize(sentence)\n",
    "    for w in tokens:\n",
    "        print(lemmatizer.lemmatize(w),end=\" \")\n",
    "    else:\n",
    "        print(\"\")\n",
    "        \n",
    "lemmatizeSentence(corpus[:200])\n",
    "print()"
   ]
  },
  {
   "cell_type": "markdown",
   "metadata": {
    "colab_type": "text",
    "id": "VJW6HsycSAlU"
   },
   "source": [
    "**Question:** Give example of two words which have same stem but different lemma? Show the stem and lemma of both words in the code below \n",
    "\n"
   ]
  },
  {
   "cell_type": "markdown",
   "metadata": {
    "colab_type": "text",
    "id": "zcq6bUEaSAt1"
   },
   "source": [
    "**Answer here:**<br>\n",
    "ceil ceiling<br>\n",
    "feel feeling\n"
   ]
  },
  {
   "cell_type": "code",
   "execution_count": 15,
   "metadata": {
    "colab": {},
    "colab_type": "code",
    "id": "a8OtIEmFkGBM"
   },
   "outputs": [
    {
     "name": "stdout",
     "output_type": "stream",
     "text": [
      "Consider words ceil and ceiling:\n",
      "Lemma:  ceil ceiling\n",
      "Stem:  ceil ceil\n",
      "\n",
      "Consider words ceil and ceiling:\n",
      "Lemma:  feel feeling\n",
      "Stem:  feel feel\n"
     ]
    }
   ],
   "source": [
    "#TODO\n",
    "# Write code to print the stem and lemma of both your words\n",
    "w1=[\"ceil\",\"ceiling\"]\n",
    "print(\"Consider words ceil and ceiling:\")\n",
    "print(\"Lemma: \",lemmatizer.lemmatize(w1[0]),lemmatizer.lemmatize(w1[1]))\n",
    "print(\"Stem: \",ps.stem(w1[0]),ps.stem(w1[1]))\n",
    "\n",
    "print()\n",
    "\n",
    "w2=[\"feel\",\"feeling\"]\n",
    "print(\"Consider words ceil and ceiling:\")\n",
    "print(\"Lemma: \",lemmatizer.lemmatize(w2[0]),lemmatizer.lemmatize(w2[1]))\n",
    "print(\"Stem: \",ps.stem(w2[0]),ps.stem(w2[1]))\n",
    "\n"
   ]
  },
  {
   "cell_type": "markdown",
   "metadata": {
    "colab_type": "text",
    "id": "e0tz3SIGSA2b"
   },
   "source": [
    "**Question:** Write a comparison between stemming and lemmatization?"
   ]
  },
  {
   "cell_type": "markdown",
   "metadata": {
    "colab_type": "text",
    "id": "aks8QaQ_SA_N"
   },
   "source": [
    "**Answer here:**<br>\n",
    "1)Stemming only removes extra letters to simplify the word, lemmatizing can give a completely different word<br>\n",
    "2)After stemming, word may not exist in dictionary, in lemmatization word will be meaningful given proper parts of speech"
   ]
  },
  {
   "cell_type": "code",
   "execution_count": null,
   "metadata": {},
   "outputs": [],
   "source": []
  }
 ],
 "metadata": {
  "colab": {
   "collapsed_sections": [],
   "name": "NLP Assignment 1",
   "provenance": []
  },
  "kernelspec": {
   "display_name": "Python 3",
   "language": "python",
   "name": "python3"
  },
  "language_info": {
   "codemirror_mode": {
    "name": "ipython",
    "version": 3
   },
   "file_extension": ".py",
   "mimetype": "text/x-python",
   "name": "python",
   "nbconvert_exporter": "python",
   "pygments_lexer": "ipython3",
   "version": "3.7.6"
  }
 },
 "nbformat": 4,
 "nbformat_minor": 4
}
