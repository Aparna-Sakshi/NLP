{
 "cells": [
  {
   "cell_type": "markdown",
   "metadata": {
    "id": "zyJ25uz0kSaw"
   },
   "source": [
    "# Assignment 3 on Natural Language Processing\n",
    "\n",
    "## Date : 30th Sept, 2020\n",
    "\n",
    "### Instructor : Prof. Sudeshna Sarkar\n",
    "\n",
    "### Teaching Assistants : Alapan Kuila, Aniruddha Roy, Anusha Potnuru, Uppada Vishnu"
   ]
  },
  {
   "cell_type": "markdown",
   "metadata": {
    "id": "Ao1nhg9RknmF"
   },
   "source": [
    "The central idea of this assignment is to use Naive Bayes classifier and LSTM based classifier and compare the models by accuracy on IMDB dataset.\n",
    "\n"
   ]
  },
  {
   "cell_type": "markdown",
   "metadata": {
    "id": "ONM5Q4SCe9Mr"
   },
   "source": [
    "Please submit with outputs. "
   ]
  },
  {
   "cell_type": "code",
   "execution_count": 167,
   "metadata": {
    "id": "ElRkQElWUMjG"
   },
   "outputs": [],
   "source": [
    "import re\n",
    "import pandas as pd\n",
    "import numpy as np\n",
    "import keras\n",
    "from sklearn.preprocessing import LabelEncoder\n",
    "from sklearn.model_selection import train_test_split\n",
    "from keras.preprocessing.text import Tokenizer\n",
    "from keras.preprocessing.sequence import pad_sequences\n",
    "\n",
    "from sklearn.metrics import classification_report"
   ]
  },
  {
   "cell_type": "code",
   "execution_count": 168,
   "metadata": {
    "id": "fhHRim2AUm4z"
   },
   "outputs": [
    {
     "name": "stdout",
     "output_type": "stream",
     "text": [
      "                                              review sentiment\n",
      "0  One of the other reviewers has mentioned that ...  positive\n",
      "1  A wonderful little production. <br /><br />The...  positive\n",
      "2  I thought this was a wonderful way to spend ti...  positive\n",
      "3  Basically there's a family where a little boy ...  negative\n",
      "4  Petter Mattei's \"Love in the Time of Money\" is...  positive\n"
     ]
    }
   ],
   "source": [
    "#Load the IMDB dataset. You can load it using pandas as dataframe\n",
    "df=pd.read_csv(\"IMDB Dataset.csv\")\n",
    "#df=ddf[0:50]\n",
    "print(df[0:5])"
   ]
  },
  {
   "cell_type": "markdown",
   "metadata": {
    "id": "lK_Hn2f6VMP7"
   },
   "source": [
    "# Preprocessing\n",
    "PrePrecessing that needs to be done on lower cased corpus\n",
    "\n",
    "1. Remove html tags\n",
    "2. Remove URLS\n",
    "3. Remove non alphanumeric character\n",
    "4. Remove Stopwords\n",
    "5. Perform stemming and lemmatization\n",
    "\n",
    "You can use regex from re. "
   ]
  },
  {
   "cell_type": "code",
   "execution_count": 169,
   "metadata": {},
   "outputs": [
    {
     "name": "stderr",
     "output_type": "stream",
     "text": [
      "[nltk_data] Downloading package wordnet to C:\\Users\\Aparna\n",
      "[nltk_data]     Sakshi\\AppData\\Roaming\\nltk_data...\n",
      "[nltk_data]   Package wordnet is already up-to-date!\n"
     ]
    }
   ],
   "source": [
    "#imports\n",
    "import nltk\n",
    "from nltk.tokenize import word_tokenize,sent_tokenize\n",
    "from nltk.corpus import stopwords\n",
    "stopwords=stopwords.words(\"english\")\n",
    "from nltk.stem import SnowballStemmer\n",
    "ss=SnowballStemmer(\"english\")\n",
    "from nltk.stem import WordNetLemmatizer\n",
    "nltk.download('wordnet') # Since Lemmatization method is based on WorldNet's built-in morph function.\n",
    "lemmatizer=WordNetLemmatizer()"
   ]
  },
  {
   "cell_type": "code",
   "execution_count": 170,
   "metadata": {
    "id": "5B5lHZPsVOXv"
   },
   "outputs": [
    {
     "name": "stdout",
     "output_type": "stream",
     "text": [
      "  sentiment                                preprocessed_review  review_len\n",
      "0  positive  one review mention watch 1 oz episod hook righ...         163\n",
      "1  positive  wonder littl product film techniqu unassum old...          86\n",
      "2  positive  thought wonder way spend time hot summer weeke...          85\n",
      "3  negative  basic famili littl boy jake think zombi closet...          66\n",
      "4  positive  petter mattei love time money visual stun film...         125\n"
     ]
    },
    {
     "data": {
      "text/plain": [
       "Index(['sentiment', 'preprocessed_review', 'review_len'], dtype='object')"
      ]
     },
     "execution_count": 170,
     "metadata": {},
     "output_type": "execute_result"
    }
   ],
   "source": [
    "#removing html tags\n",
    "def remove_html_tags(text):     \n",
    "    clean = re.compile('<.*?>')    \n",
    "    return re.sub(clean, '', text)\n",
    "#removing urls\n",
    "def remove_URLS(text):\n",
    "    return re.sub(r'http\\S+', '', text)\n",
    "\n",
    "df['clean_web']=[remove_URLS(remove_html_tags(text)) for text in df['review']]\n",
    "#print(df[0:5])\n",
    "\n",
    "#remove non alpha numeric characters, stopwords, and then lemmatize and stem(snowball stem)\n",
    "def preprocess(text):\n",
    "    sentences=sent_tokenize(text)\n",
    "    preprocessed_text=[];\n",
    "    for sentence in sentences:\n",
    "        tokenizer = nltk.RegexpTokenizer(r\"[a-z0-9]+\")\n",
    "        tokenized_sentence = tokenizer.tokenize(sentence.lower())\n",
    "        for word in tokenized_sentence:\n",
    "            if word not in stopwords:\n",
    "                #lemmatized word -> lw\n",
    "                lw=lemmatizer.lemmatize(word)\n",
    "                #stem lw -> slw: stem the lemmatized word\n",
    "                slw=ss.stem(lw)\n",
    "                preprocessed_text.append(slw)\n",
    "    st = \" \".join(preprocessed_text)\n",
    "    #print(preprocessed_text)\n",
    "    #return preprocessed_text\n",
    "    return st\n",
    "            \n",
    "df['preprocessed_review']=[preprocess(text) for text in df['clean_web']]\n",
    "df['review_len']=[len(processed_list.split()) for processed_list in df['preprocessed_review']]\n",
    "\n",
    "df.drop(['review','clean_web'], axis=1, inplace= True)\n",
    "print(df[0:5])\n",
    "    \n",
    "df.columns "
   ]
  },
  {
   "cell_type": "code",
   "execution_count": 171,
   "metadata": {
    "id": "DyaSkfcvYGXk"
   },
   "outputs": [
    {
     "name": "stdout",
     "output_type": "stream",
     "text": [
      "avg len of review:\n",
      "average    119.58238\n",
      "Name: review_len, dtype: float64\n",
      "__________________________________________\n",
      "count of each label:\n"
     ]
    },
    {
     "data": {
      "text/plain": [
       "negative    25000\n",
       "positive    25000\n",
       "Name: sentiment, dtype: int64"
      ]
     },
     "execution_count": 171,
     "metadata": {},
     "output_type": "execute_result"
    }
   ],
   "source": [
    "# Print Statistics of Data like avg length of review , proposition of data w.r.t class labels\n",
    "print(\"avg len of review:\")\n",
    "print(df['review_len'].agg(['average']))\n",
    "print(\"__________________________________________\")\n",
    "print(\"count of each label:\")\n",
    "df['sentiment'].value_counts()"
   ]
  },
  {
   "cell_type": "markdown",
   "metadata": {
    "id": "_FkJ-e2pUwun"
   },
   "source": [
    "# Naive Bayes classifier"
   ]
  },
  {
   "cell_type": "code",
   "execution_count": 172,
   "metadata": {
    "id": "eVq-mN28U_J4"
   },
   "outputs": [],
   "source": [
    "# get reviews column from df\n",
    "reviews = df['preprocessed_review']\n",
    "\n",
    "# get labels column from df\n",
    "labels = df['sentiment']"
   ]
  },
  {
   "cell_type": "code",
   "execution_count": 173,
   "metadata": {
    "id": "Ljo5NquhXTXr"
   },
   "outputs": [],
   "source": [
    "# Use label encoder to encode labels. Convert to 0/1\n",
    "encoder = LabelEncoder()\n",
    "encoded_labels = encoder.fit_transform(labels)\n",
    "\n",
    "#print(enc.classes_)"
   ]
  },
  {
   "cell_type": "code",
   "execution_count": 174,
   "metadata": {
    "id": "wzG-C_EVWWET"
   },
   "outputs": [],
   "source": [
    "# Split the data into train and test (80% - 20%). \n",
    "# Use stratify in train_test_split so that both train and test have similar ratio of positive and negative samples.\n",
    "train_sentences, test_sentences, train_labels, test_labels = train_test_split(reviews, encoded_labels,stratify=encoded_labels, test_size=0.2)\n",
    "\n"
   ]
  },
  {
   "cell_type": "markdown",
   "metadata": {
    "id": "Bz1YdsSkiWCX"
   },
   "source": [
    "Here there are two approaches possible for building vocabulary for the naive Bayes.\n",
    "1. Take the whole data (train + test) to build the vocab. In this way while testing there is no word which will be out of vocabulary.\n",
    "2. Take the train data to build vocab. In this case, some words from the test set may not be in vocab and hence one needs to perform smoothing so that one the probability term is not zero.\n",
    " \n",
    "You are supposed to go by the 2nd approach.\n",
    " \n",
    "Also building vocab by taking all words in the train set is memory intensive, hence you are required to build vocab by choosing the top 2000 - 3000 frequent words in the training corpus.\n",
    "\n",
    "> $ P(x_i | w_j) = \\frac{ N_{x_i,w_j}\\, +\\, \\alpha }{ N_{w_j}\\, +\\, \\alpha*d} $\n",
    "\n",
    "\n",
    "$N_{x_i,w_j}$ : Number of times feature $x_i$ appears in samples of class $w_j$\n",
    "\n",
    "$N_{w_j}$ : Total count of features in class $w_j$\n",
    "\n",
    "$\\alpha$ : Parameter for additive smoothing. Here consider $\\alpha$ = 1\n",
    "\n",
    "$d$ : Dimentionality of the feature vector  $x = [x_1,x_2,...,x_d]$. In our case its the vocab size.\n",
    "\n",
    "\n",
    "\n",
    "\n"
   ]
  },
  {
   "cell_type": "code",
   "execution_count": 179,
   "metadata": {
    "id": "1cllNfGmUr77"
   },
   "outputs": [
    {
     "name": "stdout",
     "output_type": "stream",
     "text": [
      "2000\n"
     ]
    }
   ],
   "source": [
    "from sklearn.feature_extraction.text import CountVectorizer\n",
    "# Use Count vectorizer to get frequency of the words\n",
    "\n",
    "'''\n",
    "max_features parameter : If not None, build a vocabulary that only consider the top max_features ordered by term frequency across the corpus.\n",
    "'''\n",
    "vec = CountVectorizer(max_features = 2000)\n",
    "X=vec.fit_transform(train_sentences)\n",
    "vocab = vec.get_feature_names()\n",
    "print(X[0].shape[1])\n"
   ]
  },
  {
   "cell_type": "code",
   "execution_count": 182,
   "metadata": {},
   "outputs": [],
   "source": [
    "#d=V=vocab size\n",
    "V=len(vocab)  \n",
    "#N(xi,wj)\n",
    "Npos={vocab[x_i]:0 for x_i in range(V)}\n",
    "Nneg={vocab[x_i]:0 for x_i in range(V)}\n",
    "\n",
    "#ndarray = X.toarray()\n",
    "#listOflist = ndarray.tolist()\n",
    "#print(type(X))\n",
    "ndarray = X.toarray()\n",
    "listX = ndarray.tolist()\n",
    "#print(listX)\n",
    "\n",
    "for d_i, doc in enumerate(listX):  \n",
    "    for x_i,count_i in enumerate(doc):        \n",
    "        if train_labels[d_i]==0:        \n",
    "            Npos[vocab[x_i]]+=count_i\n",
    "        else:\n",
    "            Nneg[vocab[x_i]]+=count_i\n",
    "        \n",
    "#N(wj)\n",
    "Nw_pos=sum(Npos.values())\n",
    "Nw_neg=sum(Nneg.values())\n",
    "\n",
    "#alpha=1\n",
    "      \n",
    "        "
   ]
  },
  {
   "cell_type": "code",
   "execution_count": 183,
   "metadata": {
    "id": "qzRvPjWaWUnm"
   },
   "outputs": [
    {
     "name": "stdout",
     "output_type": "stream",
     "text": [
      "5.39626675473374e-07\n",
      "5.399751719415942e-07\n"
     ]
    }
   ],
   "source": [
    "# Use laplace smoothing for words in test set not present in vocab of train set\n",
    "#P(xi/wj) return smoothed values for any word irrespective of it being in vocab\n",
    "print((0+1)/(Nw_pos+V))\n",
    "print((0+1)/(Nw_neg+V))\n",
    "def P(word,label):\n",
    "    if word in vocab:\n",
    "        #print(\"in vocab\", word)\n",
    "        if label == 0:\n",
    "            return (Npos[word]+1)/(Nw_pos+V)\n",
    "        else:\n",
    "            return (Nneg[word]+1)/(Nw_neg+V)\n",
    "    else:\n",
    "        #print(\"not in vocab\", word)\n",
    "        if label == 0:\n",
    "            return (0+1)/(Nw_pos+V)\n",
    "        else:\n",
    "            return (0+1)/(Nw_neg+V)\n"
   ]
  },
  {
   "cell_type": "code",
   "execution_count": 186,
   "metadata": {
    "id": "iE7pxWIYW1z0"
   },
   "outputs": [],
   "source": [
    "# Build the model. Don't use the model from sklearn\n",
    "import math\n",
    "#predict\n",
    "def predict(text, label):\n",
    "    #predicted label\n",
    "    predicted_label=1\n",
    "    #pre process text\n",
    "    clean_tags=remove_URLS(remove_html_tags(text))\n",
    "    clean_text=preprocess(clean_tags)   \n",
    "    #calculate probability estimate\n",
    "    #prior estimate of each class=0.5\n",
    "    prod1=0\n",
    "    prod2=0\n",
    "    for word in clean_text.split():\n",
    "        prod1+=math.log10(P(word,0))\n",
    "        prod2+=math.log10(P(word,1))       \n",
    "    if prod1>prod2:        \n",
    "        predicted_label=0\n",
    "    else:        \n",
    "        predicted_label=1   \n",
    "    #print(\"Predicted label\",predicted_label, \"actual label\", label)\n",
    "    if predicted_label==label:        \n",
    "        return True\n",
    "    else:\n",
    "        return False\n",
    "\n"
   ]
  },
  {
   "cell_type": "code",
   "execution_count": 187,
   "metadata": {
    "id": "AtQSl1zvW4DD"
   },
   "outputs": [
    {
     "name": "stdout",
     "output_type": "stream",
     "text": [
      "Accuracy: 0.8361\n"
     ]
    }
   ],
   "source": [
    "# Test the model on test set and report Accuracy\n",
    "val=0\n",
    "accuracy=0\n",
    "for text,label in  zip(test_sentences, test_labels):\n",
    "    val+=1\n",
    "    if predict(text, label):\n",
    "        accuracy+=1\n",
    "        \n",
    "print(\"Accuracy:\",accuracy/val)   \n",
    "\n",
    "\n"
   ]
  },
  {
   "cell_type": "markdown",
   "metadata": {
    "id": "WlNql0acU7sa"
   },
   "source": [
    "# *LSTM* based Classifier\n",
    "\n",
    "Use the above train and test splits."
   ]
  },
  {
   "cell_type": "code",
   "execution_count": null,
   "metadata": {
    "id": "SkqnvbUOXoN0"
   },
   "outputs": [],
   "source": [
    "# Hyperparameters of the model\n",
    "vocab_size = # choose based on statistics\n",
    "oov_tok = '<OOK>'\n",
    "embedding_dim = 100\n",
    "max_length = # choose based on statistics, for example 150 to 200\n",
    "padding_type='post'\n",
    "trunc_type='post'"
   ]
  },
  {
   "cell_type": "code",
   "execution_count": null,
   "metadata": {
    "id": "UeycEg9nZAOF"
   },
   "outputs": [],
   "source": [
    "# tokenize sentences\n",
    "tokenizer = Tokenizer(num_words = vocab_size, oov_token=oov_tok)\n",
    "tokenizer.fit_on_texts(train_sentences)\n",
    "word_index = tokenizer.word_index\n",
    "\n",
    "# convert train dataset to sequence and pad sequences\n",
    "train_sequences = tokenizer.texts_to_sequences(train_sentences)\n",
    "train_padded = pad_sequences(train_sequences, padding='post', maxlen=max_length)\n",
    "\n",
    "# convert Test dataset to sequence and pad sequences\n",
    "test_sequences = tokenizer.texts_to_sequences(test_sentences)\n",
    "test_padded = pad_sequences(test_sequences, padding='post', maxlen=max_length)"
   ]
  },
  {
   "cell_type": "code",
   "execution_count": null,
   "metadata": {
    "id": "Mtw3w895ZP39"
   },
   "outputs": [],
   "source": [
    "# model initialization\n",
    "model = keras.Sequential([\n",
    "    keras.layers.Embedding(vocab_size, embedding_dim, input_length=max_length),\n",
    "    keras.layers.Bidirectional(keras.layers.LSTM(64)),\n",
    "    keras.layers.Dense(24, activation='relu'),\n",
    "    keras.layers.Dense(1, activation='sigmoid')\n",
    "])\n",
    "\n",
    "# compile model\n",
    "model.compile(loss='binary_crossentropy',\n",
    "              optimizer='adam',\n",
    "              metrics=['accuracy'])\n",
    "\n",
    "# model summary\n",
    "model.summary()"
   ]
  },
  {
   "cell_type": "code",
   "execution_count": null,
   "metadata": {
    "id": "skmaDJMnZTzc"
   },
   "outputs": [],
   "source": [
    "num_epochs = 5\n",
    "history = model.fit(train_padded, train_labels, \n",
    "                    epochs=num_epochs, verbose=1, \n",
    "                    validation_split=0.1)"
   ]
  },
  {
   "cell_type": "code",
   "execution_count": null,
   "metadata": {
    "id": "TjEhWEr5Zq7M"
   },
   "outputs": [],
   "source": [
    "# Calculate accuracy on Test data\n",
    "'''\n",
    "prediction = model.predict(test_padded)\n",
    "\n",
    "'''\n",
    "# Get probabilities\n",
    "\n",
    "\n",
    "# Get labels based on probability 1 if p>= 0.5 else 0\n",
    "\n",
    "\n",
    "# Accuracy : one can use classification_report from sklearn"
   ]
  },
  {
   "cell_type": "markdown",
   "metadata": {
    "id": "TIICV-ySOYL0"
   },
   "source": [
    "## Get predictions for random examples"
   ]
  },
  {
   "cell_type": "code",
   "execution_count": null,
   "metadata": {
    "id": "m2RmfNL3OYL0"
   },
   "outputs": [],
   "source": [
    "# reviews on which we need to predict\n",
    "sentence = [\"The movie was very touching and heart whelming\", \n",
    "            \"I have never seen a terrible movie like this\", \n",
    "            \"the movie plot is terrible but it had good acting\"]\n",
    "\n",
    "# convert to a sequence\n",
    "sequences = \n",
    "\n",
    "# pad the sequence\n",
    "padded = \n",
    "\n",
    "# Get probabilities\n",
    "print(model.predict(padded))\n",
    "\n",
    "# Get labels based on probability 1 if p>= 0.5 else 0\n",
    "\n",
    "\n"
   ]
  }
 ],
 "metadata": {
  "colab": {
   "collapsed_sections": [],
   "name": "NLP Assignment -3",
   "provenance": []
  },
  "kernelspec": {
   "display_name": "Python 3",
   "language": "python",
   "name": "python3"
  },
  "language_info": {
   "codemirror_mode": {
    "name": "ipython",
    "version": 3
   },
   "file_extension": ".py",
   "mimetype": "text/x-python",
   "name": "python",
   "nbconvert_exporter": "python",
   "pygments_lexer": "ipython3",
   "version": "3.7.6"
  }
 },
 "nbformat": 4,
 "nbformat_minor": 4
}
